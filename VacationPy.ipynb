{
 "metadata": {
  "language_info": {
   "codemirror_mode": {
    "name": "ipython",
    "version": 3
   },
   "file_extension": ".py",
   "mimetype": "text/x-python",
   "name": "python",
   "nbconvert_exporter": "python",
   "pygments_lexer": "ipython3",
   "version": "3.8.5"
  },
  "orig_nbformat": 4,
  "kernelspec": {
   "name": "python3",
   "display_name": "Python 3.8.5 64-bit ('base': conda)"
  },
  "interpreter": {
   "hash": "b0a9f33692871a1761bb188765a27ca2753be8760bb4938905d6f8b44f73aa95"
  }
 },
 "nbformat": 4,
 "nbformat_minor": 2,
 "cells": [
  {
   "cell_type": "code",
   "execution_count": 1,
   "metadata": {},
   "outputs": [],
   "source": [
    " # Dependencies and Setup\n",
    "import matplotlib.pyplot as plt\n",
    "import pandas as pd\n",
    "import numpy as np\n",
    "import requests\n",
    "import gmaps\n",
    "import os\n",
    "\n",
    "# Import API key\n",
    "from api_keys import gmap_api_key\n"
   ]
  },
  {
   "cell_type": "code",
   "execution_count": 2,
   "metadata": {},
   "outputs": [],
   "source": [
    "csv_file = os.path.join(os.getcwd(), 'output_data', 'cities.csv')\n",
    "cities_df = pd.read_csv(csv_file)"
   ]
  },
  {
   "cell_type": "code",
   "execution_count": 3,
   "metadata": {},
   "outputs": [
    {
     "output_type": "execute_result",
     "data": {
      "text/plain": [
       "               city      lat       lng   temp  humidity  cloudiness  \\\n",
       "0             vaini -21.2000 -175.2000  80.76        78          20   \n",
       "1    cabo san lucas  22.8909 -109.9124  78.42        68           1   \n",
       "2        lavrentiya  65.5833 -171.0000  48.24        71          97   \n",
       "3          qaqortoq  60.7167  -46.0333  46.90        89         100   \n",
       "4            lucapa  -8.4192   20.7447  61.16        52          53   \n",
       "..              ...      ...       ...    ...       ...         ...   \n",
       "539      chingirlau  51.0950   54.0814  75.58        48           0   \n",
       "540         makokou   0.5738   12.8642  69.03        98         100   \n",
       "541      torrevieja  37.9787   -0.6822  73.09        45           0   \n",
       "542         svetlyy  54.6750   20.1347  68.05        85           1   \n",
       "543       ibotirama -12.1853  -43.2206  71.02        45           2   \n",
       "\n",
       "     windspeed        date  \n",
       "0        13.80  1624329259  \n",
       "1        26.46  1624329005  \n",
       "2         4.21  1624329260  \n",
       "3         2.10  1624329260  \n",
       "4         4.72  1624329260  \n",
       "..         ...         ...  \n",
       "539       0.63  1624329401  \n",
       "540       2.13  1624329401  \n",
       "541       5.01  1624329401  \n",
       "542       6.13  1624329402  \n",
       "543       1.70  1624329402  \n",
       "\n",
       "[544 rows x 8 columns]"
      ],
      "text/html": "<div>\n<style scoped>\n    .dataframe tbody tr th:only-of-type {\n        vertical-align: middle;\n    }\n\n    .dataframe tbody tr th {\n        vertical-align: top;\n    }\n\n    .dataframe thead th {\n        text-align: right;\n    }\n</style>\n<table border=\"1\" class=\"dataframe\">\n  <thead>\n    <tr style=\"text-align: right;\">\n      <th></th>\n      <th>city</th>\n      <th>lat</th>\n      <th>lng</th>\n      <th>temp</th>\n      <th>humidity</th>\n      <th>cloudiness</th>\n      <th>windspeed</th>\n      <th>date</th>\n    </tr>\n  </thead>\n  <tbody>\n    <tr>\n      <th>0</th>\n      <td>vaini</td>\n      <td>-21.2000</td>\n      <td>-175.2000</td>\n      <td>80.76</td>\n      <td>78</td>\n      <td>20</td>\n      <td>13.80</td>\n      <td>1624329259</td>\n    </tr>\n    <tr>\n      <th>1</th>\n      <td>cabo san lucas</td>\n      <td>22.8909</td>\n      <td>-109.9124</td>\n      <td>78.42</td>\n      <td>68</td>\n      <td>1</td>\n      <td>26.46</td>\n      <td>1624329005</td>\n    </tr>\n    <tr>\n      <th>2</th>\n      <td>lavrentiya</td>\n      <td>65.5833</td>\n      <td>-171.0000</td>\n      <td>48.24</td>\n      <td>71</td>\n      <td>97</td>\n      <td>4.21</td>\n      <td>1624329260</td>\n    </tr>\n    <tr>\n      <th>3</th>\n      <td>qaqortoq</td>\n      <td>60.7167</td>\n      <td>-46.0333</td>\n      <td>46.90</td>\n      <td>89</td>\n      <td>100</td>\n      <td>2.10</td>\n      <td>1624329260</td>\n    </tr>\n    <tr>\n      <th>4</th>\n      <td>lucapa</td>\n      <td>-8.4192</td>\n      <td>20.7447</td>\n      <td>61.16</td>\n      <td>52</td>\n      <td>53</td>\n      <td>4.72</td>\n      <td>1624329260</td>\n    </tr>\n    <tr>\n      <th>...</th>\n      <td>...</td>\n      <td>...</td>\n      <td>...</td>\n      <td>...</td>\n      <td>...</td>\n      <td>...</td>\n      <td>...</td>\n      <td>...</td>\n    </tr>\n    <tr>\n      <th>539</th>\n      <td>chingirlau</td>\n      <td>51.0950</td>\n      <td>54.0814</td>\n      <td>75.58</td>\n      <td>48</td>\n      <td>0</td>\n      <td>0.63</td>\n      <td>1624329401</td>\n    </tr>\n    <tr>\n      <th>540</th>\n      <td>makokou</td>\n      <td>0.5738</td>\n      <td>12.8642</td>\n      <td>69.03</td>\n      <td>98</td>\n      <td>100</td>\n      <td>2.13</td>\n      <td>1624329401</td>\n    </tr>\n    <tr>\n      <th>541</th>\n      <td>torrevieja</td>\n      <td>37.9787</td>\n      <td>-0.6822</td>\n      <td>73.09</td>\n      <td>45</td>\n      <td>0</td>\n      <td>5.01</td>\n      <td>1624329401</td>\n    </tr>\n    <tr>\n      <th>542</th>\n      <td>svetlyy</td>\n      <td>54.6750</td>\n      <td>20.1347</td>\n      <td>68.05</td>\n      <td>85</td>\n      <td>1</td>\n      <td>6.13</td>\n      <td>1624329402</td>\n    </tr>\n    <tr>\n      <th>543</th>\n      <td>ibotirama</td>\n      <td>-12.1853</td>\n      <td>-43.2206</td>\n      <td>71.02</td>\n      <td>45</td>\n      <td>2</td>\n      <td>1.70</td>\n      <td>1624329402</td>\n    </tr>\n  </tbody>\n</table>\n<p>544 rows × 8 columns</p>\n</div>"
     },
     "metadata": {},
     "execution_count": 3
    }
   ],
   "source": [
    "cities_df"
   ]
  },
  {
   "cell_type": "code",
   "execution_count": 4,
   "metadata": {},
   "outputs": [],
   "source": [
    "gmaps.configure(api_key=gmap_api_key)"
   ]
  },
  {
   "cell_type": "code",
   "execution_count": 5,
   "metadata": {},
   "outputs": [],
   "source": [
    "# Customize the size of the figure\n",
    "figure_layout = {\n",
    "    \"width\": \"400px\",\n",
    "    \"height\": \"300px\",\n",
    "    \"border\": \"1px solid black\",\n",
    "    \"padding\": \"1px\",\n",
    "    \"margin\": \"0 auto 0 auto\"\n",
    "}\n",
    "fig = gmaps.figure(layout=figure_layout)\n",
    "humidity = cities_df['humidity'].astype(float)"
   ]
  },
  {
   "cell_type": "code",
   "execution_count": 6,
   "metadata": {},
   "outputs": [
    {
     "output_type": "display_data",
     "data": {
      "text/plain": "Figure(layout=FigureLayout(border='1px solid black', height='300px', margin='0 auto 0 auto', padding='1px', wi…",
      "application/vnd.jupyter.widget-view+json": {
       "version_major": 2,
       "version_minor": 0,
       "model_id": "2bcbf7bdd99d486a9b5fc01002f4f70a"
      }
     },
     "metadata": {}
    }
   ],
   "source": [
    "# Assign the marker layer to a variable\n",
    "\n",
    "marker_locations =cities_df[['lat', 'lng']]\n",
    "heat_layer = gmaps.heatmap_layer(marker_locations, weights=humidity, \n",
    "                                 dissipating=False, max_intensity=100,\n",
    "                                 point_radius = 1)\n",
    "# Add the layer to the map\n",
    "fig.add_layer(heat_layer)\n",
    "fig"
   ]
  },
  {
   "cell_type": "code",
   "execution_count": 8,
   "metadata": {},
   "outputs": [],
   "source": [
    "perfect_cities = cities_df.loc[(cities_df[\"temp\"]>70)&(cities_df['temp']<80)&(cities_df['windspeed']<10)&(cities_df['cloudiness']==0)].dropna()"
   ]
  },
  {
   "cell_type": "code",
   "execution_count": 10,
   "metadata": {},
   "outputs": [
    {
     "output_type": "stream",
     "name": "stderr",
     "text": [
      "<ipython-input-10-a961ac32f278>:2: SettingWithCopyWarning: \nA value is trying to be set on a copy of a slice from a DataFrame.\nTry using .loc[row_indexer,col_indexer] = value instead\n\nSee the caveats in the documentation: https://pandas.pydata.org/pandas-docs/stable/user_guide/indexing.html#returning-a-view-versus-a-copy\n  hotel_df[\"Hotel Name\"] = \"\"\n"
     ]
    },
    {
     "output_type": "execute_result",
     "data": {
      "text/plain": [
       "           city      lat       lng Hotel Name\n",
       "7        riyadh  24.6877   46.7219           \n",
       "108      avarua -21.2078 -159.7750           \n",
       "159      faanui -16.4833 -151.7500           \n",
       "280      maceio  -9.6658  -35.7353           \n",
       "341  marsaxlokk  35.8419   14.5431           \n",
       "405   tonekabon  36.8163   50.8738           \n",
       "431     vaitape -16.5167 -151.7500           \n",
       "469       surab  28.4914   66.2585           \n",
       "539  chingirlau  51.0950   54.0814           \n",
       "541  torrevieja  37.9787   -0.6822           "
      ],
      "text/html": "<div>\n<style scoped>\n    .dataframe tbody tr th:only-of-type {\n        vertical-align: middle;\n    }\n\n    .dataframe tbody tr th {\n        vertical-align: top;\n    }\n\n    .dataframe thead th {\n        text-align: right;\n    }\n</style>\n<table border=\"1\" class=\"dataframe\">\n  <thead>\n    <tr style=\"text-align: right;\">\n      <th></th>\n      <th>city</th>\n      <th>lat</th>\n      <th>lng</th>\n      <th>Hotel Name</th>\n    </tr>\n  </thead>\n  <tbody>\n    <tr>\n      <th>7</th>\n      <td>riyadh</td>\n      <td>24.6877</td>\n      <td>46.7219</td>\n      <td></td>\n    </tr>\n    <tr>\n      <th>108</th>\n      <td>avarua</td>\n      <td>-21.2078</td>\n      <td>-159.7750</td>\n      <td></td>\n    </tr>\n    <tr>\n      <th>159</th>\n      <td>faanui</td>\n      <td>-16.4833</td>\n      <td>-151.7500</td>\n      <td></td>\n    </tr>\n    <tr>\n      <th>280</th>\n      <td>maceio</td>\n      <td>-9.6658</td>\n      <td>-35.7353</td>\n      <td></td>\n    </tr>\n    <tr>\n      <th>341</th>\n      <td>marsaxlokk</td>\n      <td>35.8419</td>\n      <td>14.5431</td>\n      <td></td>\n    </tr>\n    <tr>\n      <th>405</th>\n      <td>tonekabon</td>\n      <td>36.8163</td>\n      <td>50.8738</td>\n      <td></td>\n    </tr>\n    <tr>\n      <th>431</th>\n      <td>vaitape</td>\n      <td>-16.5167</td>\n      <td>-151.7500</td>\n      <td></td>\n    </tr>\n    <tr>\n      <th>469</th>\n      <td>surab</td>\n      <td>28.4914</td>\n      <td>66.2585</td>\n      <td></td>\n    </tr>\n    <tr>\n      <th>539</th>\n      <td>chingirlau</td>\n      <td>51.0950</td>\n      <td>54.0814</td>\n      <td></td>\n    </tr>\n    <tr>\n      <th>541</th>\n      <td>torrevieja</td>\n      <td>37.9787</td>\n      <td>-0.6822</td>\n      <td></td>\n    </tr>\n  </tbody>\n</table>\n</div>"
     },
     "metadata": {},
     "execution_count": 10
    }
   ],
   "source": [
    "hotel_df = perfect_cities[[\"city\",\"lat\",\"lng\"]]\n",
    "hotel_df[\"Hotel Name\"] = \"\"\n",
    "hotel_df"
   ]
  },
  {
   "cell_type": "code",
   "execution_count": null,
   "metadata": {},
   "outputs": [],
   "source": [
    "base_url = \"https://maps.googleapis.com/maps/api/place/nearbysearch/json\""
   ]
  },
  {
   "cell_type": "code",
   "execution_count": 16,
   "metadata": {
    "tags": []
   },
   "outputs": [
    {
     "output_type": "stream",
     "name": "stderr",
     "text": [
      "E:\\downloads\\anaconda\\lib\\site-packages\\pandas\\core\\indexing.py:1765: SettingWithCopyWarning: \n",
      "A value is trying to be set on a copy of a slice from a DataFrame.\n",
      "Try using .loc[row_indexer,col_indexer] = value instead\n",
      "\n",
      "See the caveats in the documentation: https://pandas.pydata.org/pandas-docs/stable/user_guide/indexing.html#returning-a-view-versus-a-copy\n",
      "  isetter(loc, value)\n",
      "No hotels nearby\n"
     ]
    }
   ],
   "source": [
    "params = {\n",
    "    'radius': 5000,\n",
    "    'type': 'lodging',\n",
    "    'key': gmap_api_key\n",
    "    }\n",
    "for index, row in hotel_df.iterrows():\n",
    "    lat=row['lat']\n",
    "    lng=row['lng']\n",
    "    params['location']=f\"{lat},{lng}\"\n",
    "    base_url = \"https://maps.googleapis.com/maps/api/place/nearbysearch/json\"\n",
    "    address=requests.get(base_url,params=params).json()\n",
    "    \n",
    "    try:\n",
    "        hotel_df.loc[index, \"Hotel Name\"]=address[\"results\"][0][\"name\"]\n",
    "    except:\n",
    "        print(\"No hotels nearby\")\n",
    "        pass"
   ]
  },
  {
   "cell_type": "code",
   "execution_count": 17,
   "metadata": {},
   "outputs": [
    {
     "output_type": "execute_result",
     "data": {
      "text/plain": [
       "           city      lat       lng                             Hotel Name\n",
       "7        riyadh  24.6877   46.7219  InterContinental Riyadh, an IHG Hotel\n",
       "108      avarua -21.2078 -159.7750                           Paradise Inn\n",
       "159      faanui -16.4833 -151.7500     Bora-Bora Pearl Beach Resort & Spa\n",
       "280      maceio  -9.6658  -35.7353                         Poutur Pousada\n",
       "341  marsaxlokk  35.8419   14.5431                           Water's Edge\n",
       "405   tonekabon  36.8163   50.8738                            Hotel Sadra\n",
       "431     vaitape -16.5167 -151.7500                   Conrad Bora Bora Nui\n",
       "469       surab  28.4914   66.2585                        Bismillah Hotel\n",
       "539  chingirlau  51.0950   54.0814                                       \n",
       "541  torrevieja  37.9787   -0.6822                    Hotel Fontana Plaza"
      ],
      "text/html": "<div>\n<style scoped>\n    .dataframe tbody tr th:only-of-type {\n        vertical-align: middle;\n    }\n\n    .dataframe tbody tr th {\n        vertical-align: top;\n    }\n\n    .dataframe thead th {\n        text-align: right;\n    }\n</style>\n<table border=\"1\" class=\"dataframe\">\n  <thead>\n    <tr style=\"text-align: right;\">\n      <th></th>\n      <th>city</th>\n      <th>lat</th>\n      <th>lng</th>\n      <th>Hotel Name</th>\n    </tr>\n  </thead>\n  <tbody>\n    <tr>\n      <th>7</th>\n      <td>riyadh</td>\n      <td>24.6877</td>\n      <td>46.7219</td>\n      <td>InterContinental Riyadh, an IHG Hotel</td>\n    </tr>\n    <tr>\n      <th>108</th>\n      <td>avarua</td>\n      <td>-21.2078</td>\n      <td>-159.7750</td>\n      <td>Paradise Inn</td>\n    </tr>\n    <tr>\n      <th>159</th>\n      <td>faanui</td>\n      <td>-16.4833</td>\n      <td>-151.7500</td>\n      <td>Bora-Bora Pearl Beach Resort &amp; Spa</td>\n    </tr>\n    <tr>\n      <th>280</th>\n      <td>maceio</td>\n      <td>-9.6658</td>\n      <td>-35.7353</td>\n      <td>Poutur Pousada</td>\n    </tr>\n    <tr>\n      <th>341</th>\n      <td>marsaxlokk</td>\n      <td>35.8419</td>\n      <td>14.5431</td>\n      <td>Water's Edge</td>\n    </tr>\n    <tr>\n      <th>405</th>\n      <td>tonekabon</td>\n      <td>36.8163</td>\n      <td>50.8738</td>\n      <td>Hotel Sadra</td>\n    </tr>\n    <tr>\n      <th>431</th>\n      <td>vaitape</td>\n      <td>-16.5167</td>\n      <td>-151.7500</td>\n      <td>Conrad Bora Bora Nui</td>\n    </tr>\n    <tr>\n      <th>469</th>\n      <td>surab</td>\n      <td>28.4914</td>\n      <td>66.2585</td>\n      <td>Bismillah Hotel</td>\n    </tr>\n    <tr>\n      <th>539</th>\n      <td>chingirlau</td>\n      <td>51.0950</td>\n      <td>54.0814</td>\n      <td></td>\n    </tr>\n    <tr>\n      <th>541</th>\n      <td>torrevieja</td>\n      <td>37.9787</td>\n      <td>-0.6822</td>\n      <td>Hotel Fontana Plaza</td>\n    </tr>\n  </tbody>\n</table>\n</div>"
     },
     "metadata": {},
     "execution_count": 17
    }
   ],
   "source": [
    "hotel_df"
   ]
  },
  {
   "cell_type": "code",
   "execution_count": 19,
   "metadata": {},
   "outputs": [],
   "source": [
    " # NOTE: Do not change any of the code in this cell\n",
    "\n",
    "# Using the template add the hotel marks to the heatmap\n",
    "info_box_template = \"\"\"\n",
    "<dl>\n",
    "<dt>Name</dt><dd>{Hotel Name}</dd>\n",
    "<dt>City</dt><dd>{city}</dd>\n",
    "</dl>\n",
    "\"\"\"\n",
    "# Store the DataFrame Row\n",
    "# NOTE: be sure to update with your DataFrame name\n",
    "hotel_info = [info_box_template.format(**row) for index, row in hotel_df.iterrows()]\n",
    "locations = hotel_df[[\"lat\", \"lng\"]]\n"
   ]
  },
  {
   "cell_type": "code",
   "execution_count": 20,
   "metadata": {},
   "outputs": [
    {
     "output_type": "display_data",
     "data": {
      "text/plain": "Figure(layout=FigureLayout(border='1px solid black', height='300px', margin='0 auto 0 auto', padding='1px', wi…",
      "application/vnd.jupyter.widget-view+json": {
       "version_major": 2,
       "version_minor": 0,
       "model_id": "2bcbf7bdd99d486a9b5fc01002f4f70a"
      }
     },
     "metadata": {}
    }
   ],
   "source": [
    "# Assign the marker layer to a variable\n",
    "markers = gmaps.marker_layer(locations,info_box_content=hotel_info)\n",
    "# Add the layer to the map\n",
    "fig.add_layer(markers)\n",
    "fig"
   ]
  },
  {
   "cell_type": "code",
   "execution_count": null,
   "metadata": {},
   "outputs": [],
   "source": []
  }
 ]
}